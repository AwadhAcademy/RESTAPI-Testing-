{
 "cells": [
  {
   "cell_type": "code",
   "execution_count": 24,
   "id": "cdde9393",
   "metadata": {},
   "outputs": [
    {
     "data": {
      "text/html": [
       "<div>\n",
       "<style scoped>\n",
       "    .dataframe tbody tr th:only-of-type {\n",
       "        vertical-align: middle;\n",
       "    }\n",
       "\n",
       "    .dataframe tbody tr th {\n",
       "        vertical-align: top;\n",
       "    }\n",
       "\n",
       "    .dataframe thead th {\n",
       "        text-align: right;\n",
       "    }\n",
       "</style>\n",
       "<table border=\"1\" class=\"dataframe\">\n",
       "  <thead>\n",
       "    <tr style=\"text-align: right;\">\n",
       "      <th></th>\n",
       "      <th>id</th>\n",
       "      <th>State</th>\n",
       "      <th>TotalSamples</th>\n",
       "      <th>Negative</th>\n",
       "      <th>Positive</th>\n",
       "    </tr>\n",
       "  </thead>\n",
       "  <tbody>\n",
       "    <tr>\n",
       "      <th>0</th>\n",
       "      <td>3</td>\n",
       "      <td>Delhi</td>\n",
       "      <td>9041</td>\n",
       "      <td>7308</td>\n",
       "      <td>576</td>\n",
       "    </tr>\n",
       "    <tr>\n",
       "      <th>1</th>\n",
       "      <td>4</td>\n",
       "      <td>Delhi</td>\n",
       "      <td>9968</td>\n",
       "      <td>8643</td>\n",
       "      <td>720</td>\n",
       "    </tr>\n",
       "    <tr>\n",
       "      <th>2</th>\n",
       "      <td>5</td>\n",
       "      <td>Delhi</td>\n",
       "      <td>11061</td>\n",
       "      <td>9662</td>\n",
       "      <td>903</td>\n",
       "    </tr>\n",
       "    <tr>\n",
       "      <th>3</th>\n",
       "      <td>6</td>\n",
       "      <td>Delhi</td>\n",
       "      <td>11709</td>\n",
       "      <td>10218</td>\n",
       "      <td>1069</td>\n",
       "    </tr>\n",
       "    <tr>\n",
       "      <th>4</th>\n",
       "      <td>7</td>\n",
       "      <td>Delhi</td>\n",
       "      <td>14036</td>\n",
       "      <td>11748</td>\n",
       "      <td>1154</td>\n",
       "    </tr>\n",
       "    <tr>\n",
       "      <th>...</th>\n",
       "      <td>...</td>\n",
       "      <td>...</td>\n",
       "      <td>...</td>\n",
       "      <td>...</td>\n",
       "      <td>...</td>\n",
       "    </tr>\n",
       "    <tr>\n",
       "      <th>529</th>\n",
       "      <td>532</td>\n",
       "      <td>Jharkhand</td>\n",
       "      <td>10936966</td>\n",
       "      <td>10554285</td>\n",
       "      <td>346681</td>\n",
       "    </tr>\n",
       "    <tr>\n",
       "      <th>530</th>\n",
       "      <td>533</td>\n",
       "      <td>Jharkhand</td>\n",
       "      <td>10960727</td>\n",
       "      <td>10613972</td>\n",
       "      <td>346745</td>\n",
       "    </tr>\n",
       "    <tr>\n",
       "      <th>531</th>\n",
       "      <td>534</td>\n",
       "      <td>Jharkhand</td>\n",
       "      <td>11013912</td>\n",
       "      <td>10667124</td>\n",
       "      <td>346778</td>\n",
       "    </tr>\n",
       "    <tr>\n",
       "      <th>532</th>\n",
       "      <td>535</td>\n",
       "      <td>Jharkhand</td>\n",
       "      <td>11066130</td>\n",
       "      <td>10719296</td>\n",
       "      <td>346824</td>\n",
       "    </tr>\n",
       "    <tr>\n",
       "      <th>533</th>\n",
       "      <td>536</td>\n",
       "      <td>Jharkhand</td>\n",
       "      <td>11066130</td>\n",
       "      <td>10719296</td>\n",
       "      <td>346824</td>\n",
       "    </tr>\n",
       "  </tbody>\n",
       "</table>\n",
       "<p>534 rows × 5 columns</p>\n",
       "</div>"
      ],
      "text/plain": [
       "      id      State  TotalSamples  Negative  Positive\n",
       "0      3      Delhi          9041      7308       576\n",
       "1      4      Delhi          9968      8643       720\n",
       "2      5      Delhi         11061      9662       903\n",
       "3      6      Delhi         11709     10218      1069\n",
       "4      7      Delhi         14036     11748      1154\n",
       "..   ...        ...           ...       ...       ...\n",
       "529  532  Jharkhand      10936966  10554285    346681\n",
       "530  533  Jharkhand      10960727  10613972    346745\n",
       "531  534  Jharkhand      11013912  10667124    346778\n",
       "532  535  Jharkhand      11066130  10719296    346824\n",
       "533  536  Jharkhand      11066130  10719296    346824\n",
       "\n",
       "[534 rows x 5 columns]"
      ]
     },
     "execution_count": 24,
     "metadata": {},
     "output_type": "execute_result"
    }
   ],
   "source": [
    "import cv2\n",
    "import pandas as pd\n",
    "import matplotlib.pyplot as plt\n",
    "import numpy as np\n",
    "data=pd.read_json(\"http://127.0.0.1:8000/\")\n",
    "# data=pd.DataFrame(data)\n",
    "type(data)\n",
    "data"
   ]
  },
  {
   "cell_type": "code",
   "execution_count": 25,
   "id": "3b2c2c17",
   "metadata": {},
   "outputs": [],
   "source": [
    "delhi = data[data['State'].str.contains('Delhi')]\n",
    "gujarat = data[data['State'].str.contains('Gujarat')]\n",
    "jharkhand = data[data['State'].str.contains('Jharkhand')]\n",
    "id=range(0,max(len(delhi),max(len(gujarat),len(jharkhand))))\n",
    "frames=[id,delhi,gujarat,jharkhand]\n",
    "# delhi.index(range(0,len(delhi)))\n",
    "# data2=delhi.merge(gujarat,how=\"outer\")\n",
    "# data2=data2.merge(jharkhand,how=\"outer\")\n",
    "# data2.to_csv('final_data.csv')"
   ]
  },
  {
   "cell_type": "code",
   "execution_count": 26,
   "id": "1c90af81",
   "metadata": {},
   "outputs": [
    {
     "data": {
      "text/plain": [
       "<matplotlib.legend.Legend at 0x7fe8b8c2c730>"
      ]
     },
     "execution_count": 26,
     "metadata": {},
     "output_type": "execute_result"
    },
    {
     "data": {
      "image/png": "[encoded data removed]",
      "text/plain": [
       "<Figure size 432x288 with 1 Axes>"
      ]
     },
     "metadata": {
      "needs_background": "light"
     },
     "output_type": "display_data"
    }
   ],
   "source": [
    "plt.xlabel(\"Number of positive Cases\")\n",
    "plt.ylabel(\"Number of Days\")\n",
    "\n",
    "x=gujarat[\"Positive\"]\n",
    "y=range(0,len(gujarat))\n",
    "plt.plot(x,y)\n",
    "\n",
    "x=delhi[\"Positive\"]\n",
    "y=range(0,len(delhi))\n",
    "plt.plot(x,y)\n",
    "\n",
    "x=jharkhand[\"Positive\"]\n",
    "y=range(0,len(jharkhand))\n",
    "plt.plot(x,y)\n",
    "plt.legend(\"GDJ\")"
   ]
  },
  {
   "cell_type": "code",
   "execution_count": 27,
   "id": "e3e58c27",
   "metadata": {},
   "outputs": [
    {
     "data": {
      "text/plain": [
       "<matplotlib.legend.Legend at 0x7fe8b8b824c0>"
      ]
     },
     "execution_count": 27,
     "metadata": {},
     "output_type": "execute_result"
    },
    {
     "data": {
      "image/png": "[encoded data removed]",
      "text/plain": [
       "<Figure size 432x288 with 1 Axes>"
      ]
     },
     "metadata": {
      "needs_background": "light"
     },
     "output_type": "display_data"
    }
   ],
   "source": [
    "plt.xlabel(\"Number of Negative Cases\")\n",
    "plt.ylabel(\"Number of Days\")\n",
    "\n",
    "x=gujarat[\"Negative\"]\n",
    "y=range(0,len(gujarat))\n",
    "plt.plot(x,y)\n",
    "\n",
    "x=delhi[\"Negative\"]\n",
    "y=range(0,len(delhi))\n",
    "plt.plot(x,y)\n",
    "\n",
    "x=jharkhand[\"Negative\"]\n",
    "y=range(0,len(jharkhand))\n",
    "plt.plot(x,y)\n",
    "plt.legend(\"GDJ\")"
   ]
  },
  {
   "cell_type": "code",
   "execution_count": 28,
   "id": "4136aceb",
   "metadata": {},
   "outputs": [
    {
     "data": {
      "text/plain": [
       "<matplotlib.legend.Legend at 0x7fe8b8b828e0>"
      ]
     },
     "execution_count": 28,
     "metadata": {},
     "output_type": "execute_result"
    },
    {
     "data": {
      "image/png": "[encoded data removed]",
      "text/plain": [
       "<Figure size 432x288 with 1 Axes>"
      ]
     },
     "metadata": {
      "needs_background": "light"
     },
     "output_type": "display_data"
    }
   ],
   "source": [
    "plt.xlabel(\"Number of Negative Cases\")\n",
    "plt.ylabel(\"Number of Days\")\n",
    "\n",
    "y=gujarat[\"Positive\"]\n",
    "x=range(0,len(gujarat))\n",
    "plt.bar(x,y)\n",
    "\n",
    "y=delhi[\"Positive\"]\n",
    "x=range(0,len(delhi))\n",
    "plt.bar(x,y)\n",
    "\n",
    "y=jharkhand[\"Positive\"]\n",
    "x=range(0,len(jharkhand))\n",
    "plt.bar(x,y)\n",
    "plt.legend(\"GDJ\")"
   ]
  },
  {
   "cell_type": "code",
   "execution_count": 29,
   "id": "4290349c",
   "metadata": {},
   "outputs": [
    {
     "data": {
      "text/plain": [
       "range(0, 417)"
      ]
     },
     "execution_count": 29,
     "metadata": {},
     "output_type": "execute_result"
    },
    {
     "data": {
      "image/png": "[encoded data removed]",
      "text/plain": [
       "<Figure size 432x288 with 1 Axes>"
      ]
     },
     "metadata": {
      "needs_background": "light"
     },
     "output_type": "display_data"
    }
   ],
   "source": [
    "y=jharkhand[\"Positive\"]\n",
    "x=range(0,len(jharkhand))\n",
    "plt.bar(x,y)\n",
    "plt.legend(\"GDJ\")\n",
    "x"
   ]
  }
 ],
 "metadata": {
  "kernelspec": {
   "display_name": "Python 3 (ipykernel)",
   "language": "python",
   "name": "python3"
  },
  "language_info": {
   "codemirror_mode": {
    "name": "ipython",
    "version": 3
   },
   "file_extension": ".py",
   "mimetype": "text/x-python",
   "name": "python",
   "nbconvert_exporter": "python",
   "pygments_lexer": "ipython3",
   "version": "3.8.10"
  }
 },
 "nbformat": 4,
 "nbformat_minor": 5
}
